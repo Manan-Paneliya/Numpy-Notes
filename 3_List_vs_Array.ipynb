{
 "cells": [
  {
   "cell_type": "markdown",
   "id": "642e30b3",
   "metadata": {},
   "source": [
    "# Python List  vs  Python Numpy Array"
   ]
  },
  {
   "cell_type": "markdown",
   "id": "e1fad9fa",
   "metadata": {},
   "source": [
    "## Numpy is\n",
    "\n",
    "### 1) Faster\n",
    "### 2) Convenient\n",
    "### 3) Less Memory "
   ]
  },
  {
   "cell_type": "markdown",
   "id": "29d180c3",
   "metadata": {},
   "source": [
    "## --> Measure that how much size occupies Python List and Python Numpy Array"
   ]
  },
  {
   "cell_type": "code",
   "execution_count": 1,
   "id": "4f8c9315",
   "metadata": {},
   "outputs": [],
   "source": [
    "import numpy as np "
   ]
  },
  {
   "cell_type": "code",
   "execution_count": 2,
   "id": "08435ccc",
   "metadata": {},
   "outputs": [
    {
     "data": {
      "text/plain": [
       "2800"
      ]
     },
     "execution_count": 2,
     "metadata": {},
     "output_type": "execute_result"
    }
   ],
   "source": [
    "list1 = range(100)\n",
    "array1 = np.array(100)\n",
    "\n",
    "import sys\n",
    "list1_size = sys.getsizeof(1)*len(list1)\n",
    "list1_size"
   ]
  },
  {
   "cell_type": "markdown",
   "id": "e3b05bc3",
   "metadata": {},
   "source": [
    "### We take 1 as argument in getsizeof() function, you can put any number from1 to 100 "
   ]
  },
  {
   "cell_type": "code",
   "execution_count": 3,
   "id": "4c667fbb",
   "metadata": {},
   "outputs": [
    {
     "data": {
      "text/plain": [
       "4"
      ]
     },
     "execution_count": 3,
     "metadata": {},
     "output_type": "execute_result"
    }
   ],
   "source": [
    "array_size = (array1.itemsize*array1.size)\n",
    "array_size"
   ]
  },
  {
   "cell_type": "markdown",
   "id": "038f9498",
   "metadata": {},
   "source": [
    "## Compare Speed of List and Arrray"
   ]
  },
  {
   "cell_type": "code",
   "execution_count": 100,
   "id": "c58995ad",
   "metadata": {},
   "outputs": [
    {
     "data": {
      "text/plain": [
       "('time required by array : ', '0:00:00.021962')"
      ]
     },
     "execution_count": 100,
     "metadata": {},
     "output_type": "execute_result"
    }
   ],
   "source": [
    "import datetime \n",
    "\n",
    "# ckeck time required for array\n",
    "\n",
    "x = np.arange( 0, 100000)\n",
    "y = np.arange(100000,200000)\n",
    "start_time = datetime.datetime.now()\n",
    "\n",
    "c = list(zip(x,y))\n",
    "end_time = datetime.datetime.now()\n",
    "\n",
    "time_required_by_array = end_time - start_time \n",
    "\n",
    "\n",
    "# ckeck time required for list\n",
    "\n",
    "x1 = list(range( 0, 100000))\n",
    "y1 = list(range(100000,200000))\n",
    "start_time = datetime.datetime.now()\n",
    "\n",
    "c1 = list(zip(x1,y1))\n",
    "end_time = datetime.datetime.now()\n",
    "\n",
    "time_required_by_list = end_time - start_time \n",
    "\n",
    "\"time required by array : \",str(time_required_by_array)"
   ]
  },
  {
   "cell_type": "code",
   "execution_count": 101,
   "id": "66a78455",
   "metadata": {},
   "outputs": [
    {
     "data": {
      "text/plain": [
       "('time required by list : ', '0:00:00.007681')"
      ]
     },
     "execution_count": 101,
     "metadata": {},
     "output_type": "execute_result"
    }
   ],
   "source": [
    "\"time required by list : \",str(time_required_by_list)"
   ]
  }
 ],
 "metadata": {
  "kernelspec": {
   "display_name": "Python 3 (ipykernel)",
   "language": "python",
   "name": "python3"
  },
  "language_info": {
   "codemirror_mode": {
    "name": "ipython",
    "version": 3
   },
   "file_extension": ".py",
   "mimetype": "text/x-python",
   "name": "python",
   "nbconvert_exporter": "python",
   "pygments_lexer": "ipython3",
   "version": "3.11.4"
  }
 },
 "nbformat": 4,
 "nbformat_minor": 5
}
