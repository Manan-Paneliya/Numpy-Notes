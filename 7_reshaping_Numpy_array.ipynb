{
 "cells": [
  {
   "cell_type": "markdown",
   "id": "027f3533",
   "metadata": {},
   "source": [
    "## reshaping numpy array "
   ]
  },
  {
   "cell_type": "markdown",
   "id": "ef80680d",
   "metadata": {},
   "source": [
    "### 1) ravel\n",
    "### 2) reshape\n",
    "### 3) transpose\n",
    "### 4) stacking \n",
    "### 5) splitting\n",
    "\n"
   ]
  },
  {
   "cell_type": "code",
   "execution_count": 1,
   "id": "8366ad75",
   "metadata": {},
   "outputs": [],
   "source": [
    "import numpy as np\n"
   ]
  },
  {
   "cell_type": "code",
   "execution_count": 2,
   "id": "2b501d11",
   "metadata": {},
   "outputs": [
    {
     "data": {
      "text/plain": [
       "array([[ 6,  7],\n",
       "       [ 8,  9],\n",
       "       [10, 11]])"
      ]
     },
     "execution_count": 2,
     "metadata": {},
     "output_type": "execute_result"
    }
   ],
   "source": [
    "arr = np.arange(6,12).reshape(3,2)\n",
    "arr"
   ]
  },
  {
   "cell_type": "code",
   "execution_count": 3,
   "id": "4698cab2",
   "metadata": {},
   "outputs": [
    {
     "data": {
      "text/plain": [
       "array([ 6,  7,  8,  9, 10, 11])"
      ]
     },
     "execution_count": 3,
     "metadata": {},
     "output_type": "execute_result"
    }
   ],
   "source": [
    "arr.ravel()   # this function help to convert into single dimentional array from any dimentional array"
   ]
  },
  {
   "cell_type": "code",
   "execution_count": 4,
   "id": "1b364c78",
   "metadata": {},
   "outputs": [
    {
     "data": {
      "text/plain": [
       "array([[ 6,  8, 10],\n",
       "       [ 7,  9, 11]])"
      ]
     },
     "execution_count": 4,
     "metadata": {},
     "output_type": "execute_result"
    }
   ],
   "source": [
    "arr.transpose()"
   ]
  },
  {
   "cell_type": "code",
   "execution_count": 5,
   "id": "e6f0ca4a",
   "metadata": {},
   "outputs": [
    {
     "data": {
      "text/plain": [
       "array([[12, 13, 14],\n",
       "       [15, 16, 17]])"
      ]
     },
     "execution_count": 5,
     "metadata": {},
     "output_type": "execute_result"
    }
   ],
   "source": [
    "# ** Stacking : used to combine two arrays\n",
    "arr1 = np.arange(12, 18).reshape(2, 3)\n",
    "arr2 = np.arange(18, 24).reshape(2,3)\n",
    "arr1"
   ]
  },
  {
   "cell_type": "code",
   "execution_count": 6,
   "id": "3c62e384",
   "metadata": {},
   "outputs": [
    {
     "data": {
      "text/plain": [
       "array([[18, 19, 20],\n",
       "       [21, 22, 23]])"
      ]
     },
     "execution_count": 6,
     "metadata": {},
     "output_type": "execute_result"
    }
   ],
   "source": [
    "arr2"
   ]
  },
  {
   "cell_type": "code",
   "execution_count": 8,
   "id": "589e39d5",
   "metadata": {},
   "outputs": [
    {
     "data": {
      "text/plain": [
       "array([[12, 13, 14, 18, 19, 20],\n",
       "       [15, 16, 17, 21, 22, 23]])"
      ]
     },
     "execution_count": 8,
     "metadata": {},
     "output_type": "execute_result"
    }
   ],
   "source": [
    "np.hstack((arr1, arr2))   # horizontally stack"
   ]
  },
  {
   "cell_type": "code",
   "execution_count": 10,
   "id": "1bdcd5af",
   "metadata": {},
   "outputs": [
    {
     "data": {
      "text/plain": [
       "array([[12, 13, 14],\n",
       "       [15, 16, 17],\n",
       "       [18, 19, 20],\n",
       "       [21, 22, 23]])"
      ]
     },
     "execution_count": 10,
     "metadata": {},
     "output_type": "execute_result"
    }
   ],
   "source": [
    "np.vstack((arr1, arr2))    # vartically stack"
   ]
  },
  {
   "cell_type": "markdown",
   "id": "5a361efc",
   "metadata": {},
   "source": [
    "## Spliting of array"
   ]
  },
  {
   "cell_type": "code",
   "execution_count": 14,
   "id": "df0dfcf4",
   "metadata": {},
   "outputs": [
    {
     "data": {
      "text/plain": [
       "[array([[12],\n",
       "        [15]]),\n",
       " array([[13],\n",
       "        [16]]),\n",
       " array([[14],\n",
       "        [17]])]"
      ]
     },
     "execution_count": 14,
     "metadata": {},
     "output_type": "execute_result"
    }
   ],
   "source": [
    "np.hsplit(arr1, 3)  # horizontally split"
   ]
  },
  {
   "cell_type": "code",
   "execution_count": 17,
   "id": "7e71b9e8",
   "metadata": {},
   "outputs": [
    {
     "data": {
      "text/plain": [
       "[array([[12, 13, 14]]), array([[15, 16, 17]])]"
      ]
     },
     "execution_count": 17,
     "metadata": {},
     "output_type": "execute_result"
    }
   ],
   "source": [
    "np.vsplit(arr1, 2)    # vartically split"
   ]
  },
  {
   "cell_type": "code",
   "execution_count": 18,
   "id": "60755778",
   "metadata": {},
   "outputs": [
    {
     "data": {
      "text/plain": [
       "array([[1, 2, 3, 4],\n",
       "       [5, 6, 7, 8]])"
      ]
     },
     "execution_count": 18,
     "metadata": {},
     "output_type": "execute_result"
    }
   ],
   "source": [
    "arr3 = np.arange(1, 9).reshape(2, 4)\n",
    "arr3"
   ]
  },
  {
   "cell_type": "code",
   "execution_count": 19,
   "id": "84a386f9",
   "metadata": {},
   "outputs": [
    {
     "data": {
      "text/plain": [
       "[array([[1, 2],\n",
       "        [5, 6]]),\n",
       " array([[3, 4],\n",
       "        [7, 8]])]"
      ]
     },
     "execution_count": 19,
     "metadata": {},
     "output_type": "execute_result"
    }
   ],
   "source": [
    "np.hsplit(arr3, 2)"
   ]
  },
  {
   "cell_type": "code",
   "execution_count": null,
   "id": "01244c33",
   "metadata": {},
   "outputs": [],
   "source": []
  }
 ],
 "metadata": {
  "kernelspec": {
   "display_name": "Python 3 (ipykernel)",
   "language": "python",
   "name": "python3"
  },
  "language_info": {
   "codemirror_mode": {
    "name": "ipython",
    "version": 3
   },
   "file_extension": ".py",
   "mimetype": "text/x-python",
   "name": "python",
   "nbconvert_exporter": "python",
   "pygments_lexer": "ipython3",
   "version": "3.11.4"
  }
 },
 "nbformat": 4,
 "nbformat_minor": 5
}
