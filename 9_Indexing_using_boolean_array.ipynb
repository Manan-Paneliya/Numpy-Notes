{
 "cells": [
  {
   "cell_type": "code",
   "execution_count": 1,
   "id": "33b17ad4",
   "metadata": {},
   "outputs": [],
   "source": [
    "import numpy as np"
   ]
  },
  {
   "cell_type": "code",
   "execution_count": 2,
   "id": "548505fe",
   "metadata": {},
   "outputs": [
    {
     "data": {
      "text/plain": [
       "array([[95, 45, 63, 31, 76],\n",
       "       [94, 78, 82, 96, 38],\n",
       "       [59, 48, 72, 11, 53],\n",
       "       [63, 58, 67, 65, 21]])"
      ]
     },
     "execution_count": 2,
     "metadata": {},
     "output_type": "execute_result"
    }
   ],
   "source": [
    "arr = np.random.randint(low = 1, high = 100, size = 20 ).reshape(4,5)\n",
    "arr"
   ]
  },
  {
   "cell_type": "code",
   "execution_count": 3,
   "id": "379da47b",
   "metadata": {},
   "outputs": [
    {
     "data": {
      "text/plain": [
       "array([[ True, False,  True, False,  True],\n",
       "       [ True,  True,  True,  True, False],\n",
       "       [ True, False,  True, False,  True],\n",
       "       [ True,  True,  True,  True, False]])"
      ]
     },
     "execution_count": 3,
     "metadata": {},
     "output_type": "execute_result"
    }
   ],
   "source": [
    "arr>50   # get vslues in the form of boolean array"
   ]
  },
  {
   "cell_type": "code",
   "execution_count": 4,
   "id": "e049d304",
   "metadata": {},
   "outputs": [
    {
     "data": {
      "text/plain": [
       "array([95, 63, 76, 94, 78, 82, 96, 59, 72, 53, 63, 58, 67, 65])"
      ]
     },
     "execution_count": 4,
     "metadata": {},
     "output_type": "execute_result"
    }
   ],
   "source": [
    "arr[arr>50]   "
   ]
  },
  {
   "cell_type": "code",
   "execution_count": 5,
   "id": "092983e3",
   "metadata": {},
   "outputs": [
    {
     "data": {
      "text/plain": [
       "array([95, 63, 59, 53, 63, 67, 65])"
      ]
     },
     "execution_count": 5,
     "metadata": {},
     "output_type": "execute_result"
    }
   ],
   "source": [
    "arr[(arr>50) & (arr%2 != 0 )]   # take those items which is greater than 50 and it is odd"
   ]
  },
  {
   "cell_type": "code",
   "execution_count": 6,
   "id": "f9ac1191",
   "metadata": {},
   "outputs": [
    {
     "ename": "ValueError",
     "evalue": "The truth value of an array with more than one element is ambiguous. Use a.any() or a.all()",
     "output_type": "error",
     "traceback": [
      "\u001b[1;31m---------------------------------------------------------------------------\u001b[0m",
      "\u001b[1;31mValueError\u001b[0m                                Traceback (most recent call last)",
      "Cell \u001b[1;32mIn[6], line 1\u001b[0m\n\u001b[1;32m----> 1\u001b[0m arr[\u001b[43m(\u001b[49m\u001b[43marr\u001b[49m\u001b[38;5;241;43m>\u001b[39;49m\u001b[38;5;241;43m50\u001b[39;49m\u001b[43m)\u001b[49m\u001b[43m \u001b[49m\u001b[38;5;129;43;01mand\u001b[39;49;00m\u001b[43m \u001b[49m\u001b[43m(\u001b[49m\u001b[43marr\u001b[49m\u001b[38;5;241;43m%\u001b[39;49m\u001b[38;5;241;43m2\u001b[39;49m\u001b[43m \u001b[49m\u001b[38;5;241;43m!=\u001b[39;49m\u001b[43m \u001b[49m\u001b[38;5;241;43m0\u001b[39;49m\u001b[43m \u001b[49m\u001b[43m)\u001b[49m]\n",
      "\u001b[1;31mValueError\u001b[0m: The truth value of an array with more than one element is ambiguous. Use a.any() or a.all()"
     ]
    }
   ],
   "source": [
    " arr[(arr>50) and (arr%2 != 0 )]"
   ]
  },
  {
   "cell_type": "code",
   "execution_count": 12,
   "id": "633aaef1",
   "metadata": {},
   "outputs": [],
   "source": [
    "arr[(arr>50) & (arr%2 != 0 )] = 999"
   ]
  },
  {
   "cell_type": "code",
   "execution_count": 13,
   "id": "517aa041",
   "metadata": {},
   "outputs": [
    {
     "data": {
      "text/plain": [
       "array([[999,  45, 999,  31,  76],\n",
       "       [ 94,  78,  82,  96,  38],\n",
       "       [999,  48,  72,  11, 999],\n",
       "       [999,  58, 999, 999,  21]])"
      ]
     },
     "execution_count": 13,
     "metadata": {},
     "output_type": "execute_result"
    }
   ],
   "source": [
    "arr"
   ]
  },
  {
   "cell_type": "code",
   "execution_count": null,
   "id": "717a538f",
   "metadata": {},
   "outputs": [],
   "source": []
  },
  {
   "cell_type": "code",
   "execution_count": null,
   "id": "433199c8",
   "metadata": {},
   "outputs": [],
   "source": []
  },
  {
   "cell_type": "code",
   "execution_count": null,
   "id": "8628d495",
   "metadata": {},
   "outputs": [],
   "source": []
  }
 ],
 "metadata": {
  "kernelspec": {
   "display_name": "Python 3 (ipykernel)",
   "language": "python",
   "name": "python3"
  },
  "language_info": {
   "codemirror_mode": {
    "name": "ipython",
    "version": 3
   },
   "file_extension": ".py",
   "mimetype": "text/x-python",
   "name": "python",
   "nbconvert_exporter": "python",
   "pygments_lexer": "ipython3",
   "version": "3.11.4"
  }
 },
 "nbformat": 4,
 "nbformat_minor": 5
}
