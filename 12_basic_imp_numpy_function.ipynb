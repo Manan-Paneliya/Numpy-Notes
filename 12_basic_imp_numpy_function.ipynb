{
 "cells": [
  {
   "cell_type": "code",
   "execution_count": 1,
   "id": "507d6210",
   "metadata": {},
   "outputs": [],
   "source": [
    "import numpy as np\n"
   ]
  },
  {
   "cell_type": "code",
   "execution_count": 2,
   "id": "77a9f2ec",
   "metadata": {},
   "outputs": [
    {
     "data": {
      "text/plain": [
       "0.46573326467564036"
      ]
     },
     "execution_count": 2,
     "metadata": {},
     "output_type": "execute_result"
    }
   ],
   "source": [
    "np.random.random()"
   ]
  },
  {
   "cell_type": "code",
   "execution_count": 3,
   "id": "393f02b6",
   "metadata": {},
   "outputs": [
    {
     "data": {
      "text/plain": [
       "0.417022004702574"
      ]
     },
     "execution_count": 3,
     "metadata": {},
     "output_type": "execute_result"
    }
   ],
   "source": [
    "np.random.seed(1)    # it fix the value of random values\n",
    "np.random.random()"
   ]
  },
  {
   "cell_type": "code",
   "execution_count": 4,
   "id": "d76b19ab",
   "metadata": {},
   "outputs": [
    {
     "data": {
      "text/plain": [
       "0.5507979025745755"
      ]
     },
     "execution_count": 4,
     "metadata": {},
     "output_type": "execute_result"
    }
   ],
   "source": [
    "np.random.seed(3)  # it fix the value of random values\n",
    "np.random.random()"
   ]
  },
  {
   "cell_type": "code",
   "execution_count": 5,
   "id": "8aa2c38e",
   "metadata": {},
   "outputs": [
    {
     "name": "stdout",
     "output_type": "stream",
     "text": [
      "0.7081478226181048\n",
      "0.417022004702574\n",
      "0.7203244934421581\n"
     ]
    }
   ],
   "source": [
    "print(np.random.random())\n",
    "np.random.seed(1)\n",
    "print(np.random.random())\n",
    "print(np.random.random())"
   ]
  },
  {
   "cell_type": "code",
   "execution_count": 7,
   "id": "44c1ef67",
   "metadata": {},
   "outputs": [
    {
     "data": {
      "text/plain": [
       "5.116328008422879"
      ]
     },
     "execution_count": 7,
     "metadata": {},
     "output_type": "execute_result"
    }
   ],
   "source": [
    "np.random.uniform(3, 10)  # it returns random value between given range "
   ]
  },
  {
   "cell_type": "code",
   "execution_count": 9,
   "id": "0a263b22",
   "metadata": {},
   "outputs": [
    {
     "data": {
      "text/plain": [
       "array([ 3.71137173, 67.37628351, 42.31317543, 56.31029302, 14.89830692,\n",
       "       20.61204742, 80.2737123 , 96.857896  , 32.02899364, 69.53993895])"
      ]
     },
     "execution_count": 9,
     "metadata": {},
     "output_type": "execute_result"
    }
   ],
   "source": [
    "np.random.uniform(1,100,10)  # using third parameter we can make array of define number of element of array"
   ]
  },
  {
   "cell_type": "code",
   "execution_count": 15,
   "id": "976307a5",
   "metadata": {},
   "outputs": [
    {
     "data": {
      "text/plain": [
       "9"
      ]
     },
     "execution_count": 15,
     "metadata": {},
     "output_type": "execute_result"
    }
   ],
   "source": [
    "np.random.randint(1, 10) # it returns integer value from given range  "
   ]
  },
  {
   "cell_type": "code",
   "execution_count": 16,
   "id": "4d115900",
   "metadata": {},
   "outputs": [
    {
     "data": {
      "text/plain": [
       "array([2, 5, 1, 4, 3])"
      ]
     },
     "execution_count": 16,
     "metadata": {},
     "output_type": "execute_result"
    }
   ],
   "source": [
    "np.random.randint(1, 10, 5)"
   ]
  },
  {
   "cell_type": "code",
   "execution_count": 18,
   "id": "fa349208",
   "metadata": {},
   "outputs": [
    {
     "data": {
      "text/plain": [
       "array([7, 4, 8, 8, 5, 6])"
      ]
     },
     "execution_count": 18,
     "metadata": {},
     "output_type": "execute_result"
    }
   ],
   "source": [
    "a = np.random.randint(1, 10, 6)\n",
    "a"
   ]
  },
  {
   "cell_type": "code",
   "execution_count": 19,
   "id": "3f76698c",
   "metadata": {},
   "outputs": [
    {
     "data": {
      "text/plain": [
       "8"
      ]
     },
     "execution_count": 19,
     "metadata": {},
     "output_type": "execute_result"
    }
   ],
   "source": [
    "np.max(a)"
   ]
  },
  {
   "cell_type": "code",
   "execution_count": 20,
   "id": "a897ff7c",
   "metadata": {},
   "outputs": [
    {
     "data": {
      "text/plain": [
       "4"
      ]
     },
     "execution_count": 20,
     "metadata": {},
     "output_type": "execute_result"
    }
   ],
   "source": [
    "np.min(a)"
   ]
  },
  {
   "cell_type": "code",
   "execution_count": 21,
   "id": "76ebfbf0",
   "metadata": {},
   "outputs": [
    {
     "data": {
      "text/plain": [
       "2"
      ]
     },
     "execution_count": 21,
     "metadata": {},
     "output_type": "execute_result"
    }
   ],
   "source": [
    "np.argmax(a)"
   ]
  },
  {
   "cell_type": "code",
   "execution_count": 22,
   "id": "0c8cf2b1",
   "metadata": {},
   "outputs": [
    {
     "data": {
      "text/plain": [
       "1"
      ]
     },
     "execution_count": 22,
     "metadata": {},
     "output_type": "execute_result"
    }
   ],
   "source": [
    "np.argmin(a)"
   ]
  },
  {
   "cell_type": "markdown",
   "id": "049678a2",
   "metadata": {},
   "source": [
    "### if we convert odd number into -1 "
   ]
  },
  {
   "cell_type": "markdown",
   "id": "975f14c2",
   "metadata": {},
   "source": [
    "##### method 1"
   ]
  },
  {
   "cell_type": "code",
   "execution_count": 27,
   "id": "83b22e7d",
   "metadata": {},
   "outputs": [],
   "source": [
    "a[a%2 == 1]= -1"
   ]
  },
  {
   "cell_type": "code",
   "execution_count": 26,
   "id": "f3497a52",
   "metadata": {},
   "outputs": [
    {
     "data": {
      "text/plain": [
       "array([-1,  4,  8,  8, -1,  6])"
      ]
     },
     "execution_count": 26,
     "metadata": {},
     "output_type": "execute_result"
    }
   ],
   "source": [
    "a"
   ]
  },
  {
   "cell_type": "markdown",
   "id": "e4458014",
   "metadata": {},
   "source": [
    "##### method 2"
   ]
  },
  {
   "cell_type": "code",
   "execution_count": 32,
   "id": "01e9ed02",
   "metadata": {},
   "outputs": [
    {
     "data": {
      "text/plain": [
       "array([29, 11, 47, 33, 25, 24])"
      ]
     },
     "execution_count": 32,
     "metadata": {},
     "output_type": "execute_result"
    }
   ],
   "source": [
    "b = np.random.randint(1, 50, 6)\n",
    "b"
   ]
  },
  {
   "cell_type": "code",
   "execution_count": 33,
   "id": "2031760d",
   "metadata": {},
   "outputs": [
    {
     "data": {
      "text/plain": [
       "array([-1, -1, -1, -1, -1,  6])"
      ]
     },
     "execution_count": 33,
     "metadata": {},
     "output_type": "execute_result"
    }
   ],
   "source": [
    "np.where(b%2==1, -1, a)"
   ]
  },
  {
   "cell_type": "markdown",
   "id": "337daf30",
   "metadata": {},
   "source": [
    "#### replace odd number with 1 and even with 0"
   ]
  },
  {
   "cell_type": "code",
   "execution_count": 34,
   "id": "5c999447",
   "metadata": {},
   "outputs": [
    {
     "data": {
      "text/plain": [
       "array([1, 1, 1, 1, 1, 0])"
      ]
     },
     "execution_count": 34,
     "metadata": {},
     "output_type": "execute_result"
    }
   ],
   "source": [
    "np.where(b%2==1, 1, 0)"
   ]
  },
  {
   "cell_type": "markdown",
   "id": "f9a71baf",
   "metadata": {},
   "source": [
    "### sorting the array"
   ]
  },
  {
   "cell_type": "code",
   "execution_count": 46,
   "id": "a8d56722",
   "metadata": {},
   "outputs": [
    {
     "data": {
      "text/plain": [
       "array([31, 37, 40,  8, 46,  5, 49, 19, 33, 14])"
      ]
     },
     "execution_count": 46,
     "metadata": {},
     "output_type": "execute_result"
    }
   ],
   "source": [
    "c = np.random.randint(1, 50, 10)\n",
    "c"
   ]
  },
  {
   "cell_type": "code",
   "execution_count": 47,
   "id": "aae3b8fb",
   "metadata": {},
   "outputs": [],
   "source": [
    "c = np.sort(c)"
   ]
  },
  {
   "cell_type": "code",
   "execution_count": 48,
   "id": "4f2835f5",
   "metadata": {},
   "outputs": [
    {
     "data": {
      "text/plain": [
       "array([ 5,  8, 14, 19, 31, 33, 37, 40, 46, 49])"
      ]
     },
     "execution_count": 48,
     "metadata": {},
     "output_type": "execute_result"
    }
   ],
   "source": [
    "c"
   ]
  },
  {
   "cell_type": "markdown",
   "id": "d4d4816b",
   "metadata": {},
   "source": [
    "## Find Percentile (only possible with sorted array)"
   ]
  },
  {
   "cell_type": "code",
   "execution_count": 50,
   "id": "313885ed",
   "metadata": {},
   "outputs": [
    {
     "data": {
      "text/plain": [
       "array([ 2, 31, 42, 25, 19, 34,  3, 45, 29, 40])"
      ]
     },
     "execution_count": 50,
     "metadata": {},
     "output_type": "execute_result"
    }
   ],
   "source": [
    "d = np.random.randint(1, 50, 10)\n",
    "d"
   ]
  },
  {
   "cell_type": "code",
   "execution_count": 52,
   "id": "24c239dd",
   "metadata": {},
   "outputs": [
    {
     "data": {
      "text/plain": [
       "array([ 2,  3, 19, 25, 29, 31, 34, 40, 42, 45])"
      ]
     },
     "execution_count": 52,
     "metadata": {},
     "output_type": "execute_result"
    }
   ],
   "source": [
    "d = np.sort(d)\n",
    "d"
   ]
  },
  {
   "cell_type": "code",
   "execution_count": 71,
   "id": "259fc722",
   "metadata": {},
   "outputs": [
    {
     "ename": "SyntaxError",
     "evalue": "invalid syntax (3386638739.py, line 1)",
     "output_type": "error",
     "traceback": [
      "\u001b[1;36m  Cell \u001b[1;32mIn[71], line 1\u001b[1;36m\u001b[0m\n\u001b[1;33m    np.percentile(d, 95|)\u001b[0m\n\u001b[1;37m                        ^\u001b[0m\n\u001b[1;31mSyntaxError\u001b[0m\u001b[1;31m:\u001b[0m invalid syntax\n"
     ]
    }
   ],
   "source": [
    "n = 60\n",
    "np.percentile(d, 60)  # it returns the value of nth percentile "
   ]
  },
  {
   "cell_type": "code",
   "execution_count": null,
   "id": "645a80f1",
   "metadata": {},
   "outputs": [],
   "source": []
  }
 ],
 "metadata": {
  "kernelspec": {
   "display_name": "Python 3 (ipykernel)",
   "language": "python",
   "name": "python3"
  },
  "language_info": {
   "codemirror_mode": {
    "name": "ipython",
    "version": 3
   },
   "file_extension": ".py",
   "mimetype": "text/x-python",
   "name": "python",
   "nbconvert_exporter": "python",
   "pygments_lexer": "ipython3",
   "version": "3.11.4"
  }
 },
 "nbformat": 4,
 "nbformat_minor": 5
}
