{
 "cells": [
  {
   "cell_type": "code",
   "execution_count": 1,
   "id": "b0e1fe61",
   "metadata": {},
   "outputs": [],
   "source": [
    "import numpy as np"
   ]
  },
  {
   "cell_type": "markdown",
   "id": "e256a559",
   "metadata": {},
   "source": [
    "### Scenario 1"
   ]
  },
  {
   "cell_type": "code",
   "execution_count": 10,
   "id": "9c29f7c8",
   "metadata": {},
   "outputs": [
    {
     "name": "stdout",
     "output_type": "stream",
     "text": [
      "[[0 1 2 3]\n",
      " [4 5 6 7]]\n",
      "[[ 8  9 10 11]\n",
      " [12 13 14 15]]\n"
     ]
    },
    {
     "data": {
      "text/plain": [
       "array([[ 8, 10, 12, 14],\n",
       "       [16, 18, 20, 22]])"
      ]
     },
     "execution_count": 10,
     "metadata": {},
     "output_type": "execute_result"
    }
   ],
   "source": [
    "a = np.arange(8).reshape(2, 4)\n",
    "b = np.arange(8, 16).reshape(2, 4)\n",
    "print(a)\n",
    "print(b)\n",
    "a+b"
   ]
  },
  {
   "cell_type": "markdown",
   "id": "464f0d4f",
   "metadata": {},
   "source": [
    "### Scenario 2"
   ]
  },
  {
   "cell_type": "code",
   "execution_count": 17,
   "id": "d36847cf",
   "metadata": {},
   "outputs": [
    {
     "name": "stdout",
     "output_type": "stream",
     "text": [
      "a1 :  [[0 1 2 3]]\n",
      "b1 :  [[ 8  9 10 11]\n",
      " [12 13 14 15]] \n",
      "\n",
      "a1 + b1 :  [[ 8 10 12 14]\n",
      " [12 14 16 18]]\n"
     ]
    }
   ],
   "source": [
    "a1= np.arange(4).reshape(1, 4)\n",
    "b1 = np.arange(8,16).reshape(2, 4)\n",
    "\n",
    "print(\"a1 : \",a1)\n",
    "print(\"b1 : \",b1,\"\\n\")\n",
    "\n",
    "print(\"a1 + b1 : \",a1 + b1)"
   ]
  },
  {
   "cell_type": "markdown",
   "id": "3e28df85",
   "metadata": {},
   "source": [
    "### Scenario 3"
   ]
  },
  {
   "cell_type": "code",
   "execution_count": 19,
   "id": "0b61fa8b",
   "metadata": {},
   "outputs": [
    {
     "name": "stdout",
     "output_type": "stream",
     "text": [
      "a2 :  [[0 1 2 3]]\n",
      "b2 :  [[ 8  9 10 11]\n",
      " [12 13 14 15]] \n",
      "\n",
      "a2 + b2 :  [[ 8 10 12 14]\n",
      " [12 14 16 18]]\n"
     ]
    }
   ],
   "source": [
    "a2 = np.arange(2, 3)\n",
    "b2 = np.arange(8).reshape(2, 4)\n",
    "print(\"a2 : \",a1)\n",
    "print(\"b2 : \",b1,\"\\n\")\n",
    "\n",
    "print(\"a2 + b2 : \",a1 + b1)"
   ]
  },
  {
   "cell_type": "code",
   "execution_count": null,
   "id": "9507e8e1",
   "metadata": {},
   "outputs": [],
   "source": []
  }
 ],
 "metadata": {
  "kernelspec": {
   "display_name": "Python 3 (ipykernel)",
   "language": "python",
   "name": "python3"
  },
  "language_info": {
   "codemirror_mode": {
    "name": "ipython",
    "version": 3
   },
   "file_extension": ".py",
   "mimetype": "text/x-python",
   "name": "python",
   "nbconvert_exporter": "python",
   "pygments_lexer": "ipython3",
   "version": "3.11.4"
  }
 },
 "nbformat": 4,
 "nbformat_minor": 5
}
