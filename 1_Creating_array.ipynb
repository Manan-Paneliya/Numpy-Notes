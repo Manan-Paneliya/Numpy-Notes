{
 "cells": [
  {
   "cell_type": "markdown",
   "id": "6502ff73",
   "metadata": {},
   "source": [
    "# Creating a Numpy Array \n"
   ]
  },
  {
   "cell_type": "code",
   "execution_count": 1,
   "id": "de55f3ee",
   "metadata": {},
   "outputs": [],
   "source": [
    "import numpy as np "
   ]
  },
  {
   "cell_type": "markdown",
   "id": "a8b59148",
   "metadata": {},
   "source": [
    "## different functions to create array with differant way "
   ]
  },
  {
   "cell_type": "markdown",
   "id": "3e1ccd7f",
   "metadata": {},
   "source": [
    "### 1) Using np.array()"
   ]
  },
  {
   "cell_type": "code",
   "execution_count": 8,
   "id": "3fc3c64c",
   "metadata": {},
   "outputs": [
    {
     "data": {
      "text/plain": [
       "array([1, 2, 3, 4, 5])"
      ]
     },
     "execution_count": 8,
     "metadata": {},
     "output_type": "execute_result"
    }
   ],
   "source": [
    "arr = np.array([1, 2, 3, 4, 5])\n",
    "arr"
   ]
  },
  {
   "cell_type": "code",
   "execution_count": 9,
   "id": "2f928c09",
   "metadata": {},
   "outputs": [
    {
     "data": {
      "text/plain": [
       "array([[1, 2, 3],\n",
       "       [4, 5, 6]])"
      ]
     },
     "execution_count": 9,
     "metadata": {},
     "output_type": "execute_result"
    }
   ],
   "source": [
    "arr0 = np.array([[1, 2, 3],[4, 5, 6]])\n",
    "arr0"
   ]
  },
  {
   "cell_type": "markdown",
   "id": "3d9e9cc4",
   "metadata": {},
   "source": [
    "### 2) np.zeros/ones/empty/random()"
   ]
  },
  {
   "cell_type": "code",
   "execution_count": 5,
   "id": "eccd1caa",
   "metadata": {},
   "outputs": [
    {
     "data": {
      "text/plain": [
       "array([[0., 0., 0.],\n",
       "       [0., 0., 0.]])"
      ]
     },
     "execution_count": 5,
     "metadata": {},
     "output_type": "execute_result"
    }
   ],
   "source": [
    "arr1 = np.zeros((2,3))\n",
    "arr1"
   ]
  },
  {
   "cell_type": "code",
   "execution_count": 6,
   "id": "d1bc34ca",
   "metadata": {},
   "outputs": [
    {
     "data": {
      "text/plain": [
       "array([[1., 1., 1.],\n",
       "       [1., 1., 1.],\n",
       "       [1., 1., 1.]])"
      ]
     },
     "execution_count": 6,
     "metadata": {},
     "output_type": "execute_result"
    }
   ],
   "source": [
    "arr2 = np.ones((3,3))\n",
    "arr2"
   ]
  },
  {
   "cell_type": "code",
   "execution_count": 7,
   "id": "3b230b26",
   "metadata": {},
   "outputs": [
    {
     "data": {
      "text/plain": [
       "array([[1., 0., 0., 0., 0.],\n",
       "       [0., 1., 0., 0., 0.],\n",
       "       [0., 0., 1., 0., 0.],\n",
       "       [0., 0., 0., 1., 0.],\n",
       "       [0., 0., 0., 0., 1.]])"
      ]
     },
     "execution_count": 7,
     "metadata": {},
     "output_type": "execute_result"
    }
   ],
   "source": [
    "arr3 = np.identity(5)\n",
    "arr3"
   ]
  },
  {
   "cell_type": "markdown",
   "id": "42213bc8",
   "metadata": {},
   "source": [
    "### 3) np.arange()"
   ]
  },
  {
   "cell_type": "code",
   "execution_count": 13,
   "id": "f1cd2fa6",
   "metadata": {},
   "outputs": [
    {
     "data": {
      "text/plain": [
       "array([0, 1, 2, 3, 4, 5, 6, 7, 8, 9])"
      ]
     },
     "execution_count": 13,
     "metadata": {},
     "output_type": "execute_result"
    }
   ],
   "source": [
    "arr4 = np.arange(10)\n",
    "arr4"
   ]
  },
  {
   "cell_type": "code",
   "execution_count": 14,
   "id": "4b2251c8",
   "metadata": {},
   "outputs": [
    {
     "data": {
      "text/plain": [
       "array([ 5,  7,  9, 11, 13, 15])"
      ]
     },
     "execution_count": 14,
     "metadata": {},
     "output_type": "execute_result"
    }
   ],
   "source": [
    "arr5 = np.arange(5, 16, 2)\n",
    "arr5"
   ]
  },
  {
   "cell_type": "markdown",
   "id": "8e6efede",
   "metadata": {},
   "source": [
    "### 4) Using np.linspace()"
   ]
  },
  {
   "cell_type": "code",
   "execution_count": 15,
   "id": "9257718b",
   "metadata": {},
   "outputs": [
    {
     "data": {
      "text/plain": [
       "array([10.        , 11.11111111, 12.22222222, 13.33333333, 14.44444444,\n",
       "       15.55555556, 16.66666667, 17.77777778, 18.88888889, 20.        ])"
      ]
     },
     "execution_count": 15,
     "metadata": {},
     "output_type": "execute_result"
    }
   ],
   "source": [
    "arr6 = np.linspace(10, 20, 10)\n",
    "arr6 # basicaslly there is a equal distance between al elements"
   ]
  },
  {
   "cell_type": "code",
   "execution_count": null,
   "id": "7c4c2368",
   "metadata": {},
   "outputs": [],
   "source": [
    "arr7 = arr6.copy()"
   ]
  }
 ],
 "metadata": {
  "kernelspec": {
   "display_name": "Python 3 (ipykernel)",
   "language": "python",
   "name": "python3"
  },
  "language_info": {
   "codemirror_mode": {
    "name": "ipython",
    "version": 3
   },
   "file_extension": ".py",
   "mimetype": "text/x-python",
   "name": "python",
   "nbconvert_exporter": "python",
   "pygments_lexer": "ipython3",
   "version": "3.11.4"
  }
 },
 "nbformat": 4,
 "nbformat_minor": 5
}
